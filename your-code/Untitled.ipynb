{
 "cells": [
  {
   "cell_type": "code",
   "execution_count": 1,
   "id": "7bb5a032",
   "metadata": {},
   "outputs": [],
   "source": [
    "original_list = [2,4,0,6,8,0]"
   ]
  },
  {
   "cell_type": "code",
   "execution_count": 5,
   "id": "21d18385",
   "metadata": {},
   "outputs": [
    {
     "data": {
      "text/plain": [
       "[8]"
      ]
     },
     "execution_count": 5,
     "metadata": {},
     "output_type": "execute_result"
    }
   ],
   "source": [
    "original_list[-2: -1]"
   ]
  },
  {
   "cell_type": "code",
   "execution_count": 6,
   "id": "03f12eb2",
   "metadata": {},
   "outputs": [
    {
     "data": {
      "text/plain": [
       "2"
      ]
     },
     "execution_count": 6,
     "metadata": {},
     "output_type": "execute_result"
    }
   ],
   "source": [
    "original_list.count(0)"
   ]
  },
  {
   "cell_type": "code",
   "execution_count": 8,
   "id": "17d231f7",
   "metadata": {},
   "outputs": [],
   "source": [
    "nl = [1,2,3.0,'four','five','six',7]"
   ]
  },
  {
   "cell_type": "code",
   "execution_count": null,
   "id": "ce7bc3cd",
   "metadata": {},
   "outputs": [],
   "source": []
  },
  {
   "cell_type": "code",
   "execution_count": 16,
   "id": "8662db2b",
   "metadata": {},
   "outputs": [
    {
     "data": {
      "text/plain": [
       "[1, 2, 3.0, 7]"
      ]
     },
     "execution_count": 16,
     "metadata": {},
     "output_type": "execute_result"
    }
   ],
   "source": [
    "nl2 = []\n",
    "for element in nl:\n",
    "    if type(element) == int or type(element) == float:\n",
    "        nl2.append(element)\n",
    "\n",
    "nl2"
   ]
  },
  {
   "cell_type": "code",
   "execution_count": 20,
   "id": "cc6f3f4f",
   "metadata": {},
   "outputs": [],
   "source": [
    "my_list = [1, 2, 7], [9,5,7],[3,8,6]"
   ]
  },
  {
   "cell_type": "code",
   "execution_count": 21,
   "id": "8a55a253",
   "metadata": {},
   "outputs": [
    {
     "name": "stdout",
     "output_type": "stream",
     "text": [
      "[1, 2, 7]\n",
      "[9, 5, 7]\n",
      "[3, 8, 6]\n"
     ]
    }
   ],
   "source": [
    "for element in my_list:\n",
    "    print(element)"
   ]
  },
  {
   "cell_type": "code",
   "execution_count": 22,
   "id": "c01955f4",
   "metadata": {},
   "outputs": [
    {
     "name": "stdout",
     "output_type": "stream",
     "text": [
      "1\n",
      "2\n",
      "7\n",
      "9\n",
      "5\n",
      "7\n",
      "3\n",
      "8\n",
      "6\n"
     ]
    }
   ],
   "source": [
    "for sublist in my_list:\n",
    "    for element in sublist:\n",
    "        print(element)"
   ]
  },
  {
   "cell_type": "code",
   "execution_count": 24,
   "id": "ffdfa720",
   "metadata": {},
   "outputs": [],
   "source": [
    "original_list = [2,4,0,6,8,0]\n",
    "conversion_rate = 1.2"
   ]
  },
  {
   "cell_type": "code",
   "execution_count": 25,
   "id": "d01bed61",
   "metadata": {},
   "outputs": [
    {
     "data": {
      "text/plain": [
       "[2.4, 4.8, 0.0, 7.199999999999999, 9.6, 0.0]"
      ]
     },
     "execution_count": 25,
     "metadata": {},
     "output_type": "execute_result"
    }
   ],
   "source": [
    "# comprehension = [result for iterator in iterable]\n",
    "comprehension = [number*conversion_rate for number in original_list]\n",
    "comprehension"
   ]
  },
  {
   "cell_type": "code",
   "execution_count": 28,
   "id": "1989c377",
   "metadata": {},
   "outputs": [
    {
     "data": {
      "text/plain": [
       "[1, 2, 3.0, 7]"
      ]
     },
     "execution_count": 28,
     "metadata": {},
     "output_type": "execute_result"
    }
   ],
   "source": [
    "nl = [1,2,3.0,'four','five','six',7]\n",
    "nl2 = [element for element in nl if type(element) == int or type(element) == float]\n",
    "nl2"
   ]
  },
  {
   "cell_type": "code",
   "execution_count": 29,
   "id": "fc3446c7",
   "metadata": {},
   "outputs": [],
   "source": [
    "sentence = 'to first create a list contaning the variables of each set created before then loop through them and remove the unecessary item'"
   ]
  },
  {
   "cell_type": "code",
   "execution_count": 30,
   "id": "57a0f9a8",
   "metadata": {},
   "outputs": [
    {
     "data": {
      "text/plain": [
       "['to',\n",
       " 'first',\n",
       " 'create',\n",
       " 'a',\n",
       " 'list',\n",
       " 'contaning',\n",
       " 'the',\n",
       " 'variables',\n",
       " 'of',\n",
       " 'each',\n",
       " 'set',\n",
       " 'created',\n",
       " 'before',\n",
       " 'then',\n",
       " 'loop',\n",
       " 'through',\n",
       " 'them',\n",
       " 'and',\n",
       " 'remove',\n",
       " 'the',\n",
       " 'unecessary',\n",
       " 'item']"
      ]
     },
     "execution_count": 30,
     "metadata": {},
     "output_type": "execute_result"
    }
   ],
   "source": [
    "word_list = sentence.split(\" \")\n",
    "word_list"
   ]
  },
  {
   "cell_type": "code",
   "execution_count": 32,
   "id": "019d0466",
   "metadata": {},
   "outputs": [
    {
     "data": {
      "text/plain": [
       "{'to': 1,\n",
       " 'first': 1,\n",
       " 'create': 1,\n",
       " 'a': 1,\n",
       " 'list': 1,\n",
       " 'contaning': 1,\n",
       " 'the': 2,\n",
       " 'variables': 1,\n",
       " 'of': 1,\n",
       " 'each': 1,\n",
       " 'set': 1,\n",
       " 'created': 1,\n",
       " 'before': 1,\n",
       " 'then': 1,\n",
       " 'loop': 1,\n",
       " 'through': 1,\n",
       " 'them': 1,\n",
       " 'and': 1,\n",
       " 'remove': 1,\n",
       " 'unecessary': 1,\n",
       " 'item': 1}"
      ]
     },
     "execution_count": 32,
     "metadata": {},
     "output_type": "execute_result"
    }
   ],
   "source": [
    "count_words = {}\n",
    "for word in word_list:\n",
    "    if word not in count_words.keys():\n",
    "        count_words[word] = 1\n",
    "    else:\n",
    "        count_words[word] = count_words[word] + 1\n",
    "count_words"
   ]
  },
  {
   "cell_type": "code",
   "execution_count": null,
   "id": "7f675f14",
   "metadata": {},
   "outputs": [],
   "source": [
    "word_freq2 = {item: word_freq.values() for item in keys for value in word_freq}\n",
    "word_freq2"
   ]
  }
 ],
 "metadata": {
  "kernelspec": {
   "display_name": "Python 3 (ipykernel)",
   "language": "python",
   "name": "python3"
  },
  "language_info": {
   "codemirror_mode": {
    "name": "ipython",
    "version": 3
   },
   "file_extension": ".py",
   "mimetype": "text/x-python",
   "name": "python",
   "nbconvert_exporter": "python",
   "pygments_lexer": "ipython3",
   "version": "3.9.7"
  }
 },
 "nbformat": 4,
 "nbformat_minor": 5
}
