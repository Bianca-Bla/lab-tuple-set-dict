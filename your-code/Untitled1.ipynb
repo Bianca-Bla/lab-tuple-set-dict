{
 "cells": [
  {
   "cell_type": "code",
   "execution_count": 3,
   "id": "214f7e0e",
   "metadata": {},
   "outputs": [],
   "source": [
    "def blue(x): print (\"\\033[94m {}\\033[00m\".format(x))"
   ]
  },
  {
   "cell_type": "code",
   "execution_count": 4,
   "id": "02b60ccb",
   "metadata": {},
   "outputs": [
    {
     "name": "stdout",
     "output_type": "stream",
     "text": [
      "\u001b[94m testingggggg\u001b[00m\n"
     ]
    }
   ],
   "source": [
    "blue('testingggggg')"
   ]
  }
 ],
 "metadata": {
  "kernelspec": {
   "display_name": "Python 3 (ipykernel)",
   "language": "python",
   "name": "python3"
  },
  "language_info": {
   "codemirror_mode": {
    "name": "ipython",
    "version": 3
   },
   "file_extension": ".py",
   "mimetype": "text/x-python",
   "name": "python",
   "nbconvert_exporter": "python",
   "pygments_lexer": "ipython3",
   "version": "3.9.7"
  }
 },
 "nbformat": 4,
 "nbformat_minor": 5
}
