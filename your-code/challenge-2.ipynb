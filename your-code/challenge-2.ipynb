{
 "cells": [
  {
   "cell_type": "markdown",
   "metadata": {},
   "source": [
    "## Challenge 2: Sets\n",
    "\n",
    "There are a lot to learn about Python Sets and the information presented in the lesson is limited due to its length. To learn Python Sets in depth you are strongly encouraged to review the W3Schools tutorial on [Python Sets Examples and Methods](https://www.w3schools.com/python/python_sets.asp) before you work on this lab. Some difficult questions in this lab have their solutions in the W3Schools tutorial.\n",
    "\n",
    "#### First, import the Python `random` libary"
   ]
  },
  {
   "cell_type": "code",
   "execution_count": 1,
   "metadata": {},
   "outputs": [],
   "source": [
    "import random"
   ]
  },
  {
   "cell_type": "markdown",
   "metadata": {},
   "source": [
    "#### 1 - In the cell below, create a list named `sample_list_1` with 80 random values. \n",
    "\n",
    "Requirements:\n",
    "\n",
    "* Each value is an integer falling between 0 and 100.\n",
    "* Each value in the list is unique.\n",
    "\n",
    "Print `sample_list_1` to review its values\n",
    "\n",
    "*Hint: use `random.sample` ([reference](https://docs.python.org/3/library/random.html#random.sample)).*"
   ]
  },
  {
   "cell_type": "code",
   "execution_count": 2,
   "metadata": {},
   "outputs": [
    {
     "name": "stdout",
     "output_type": "stream",
     "text": [
      "[13, 89, 21, 35, 24, 96, 37, 5, 45, 28, 46, 80, 82, 99, 72, 42, 16, 27, 9, 65, 84, 14, 74, 47, 15, 4, 75, 71, 12, 91, 98, 39, 68, 25, 93, 87, 7, 94, 36, 60, 30, 53, 52, 26, 8, 86, 63, 2, 20, 19, 41, 58, 32, 62, 22, 49, 95, 43, 1, 11, 50, 92, 34, 55, 83, 81, 97, 88, 64, 56, 44, 77, 79, 23, 73, 85, 51, 61, 6, 33]\n"
     ]
    },
    {
     "data": {
      "text/plain": [
       "80"
      ]
     },
     "execution_count": 2,
     "metadata": {},
     "output_type": "execute_result"
    }
   ],
   "source": [
    "# Your code here\n",
    "sample_list_1 = random.sample(range(100), k = 80)\n",
    "print(sample_list_1)\n",
    "len(sample_list_1)"
   ]
  },
  {
   "cell_type": "markdown",
   "metadata": {},
   "source": [
    "#### 2 - Convert `sample_list_1` to a set called `set1`. Print the length of the set. Is its length still 80?"
   ]
  },
  {
   "cell_type": "code",
   "execution_count": 3,
   "metadata": {},
   "outputs": [
    {
     "name": "stdout",
     "output_type": "stream",
     "text": [
      "{1, 2, 4, 5, 6, 7, 8, 9, 11, 12, 13, 14, 15, 16, 19, 20, 21, 22, 23, 24, 25, 26, 27, 28, 30, 32, 33, 34, 35, 36, 37, 39, 41, 42, 43, 44, 45, 46, 47, 49, 50, 51, 52, 53, 55, 56, 58, 60, 61, 62, 63, 64, 65, 68, 71, 72, 73, 74, 75, 77, 79, 80, 81, 82, 83, 84, 85, 86, 87, 88, 89, 91, 92, 93, 94, 95, 96, 97, 98, 99}\n"
     ]
    },
    {
     "data": {
      "text/plain": [
       "80"
      ]
     },
     "execution_count": 3,
     "metadata": {},
     "output_type": "execute_result"
    }
   ],
   "source": [
    "# Your code here\n",
    "## Lenght is still 80 as the values in sample_list_1 are unique\n",
    "set1 = set(sample_list_1)\n",
    "print(set1)\n",
    "len(set1)"
   ]
  },
  {
   "cell_type": "markdown",
   "metadata": {},
   "source": [
    "#### 3 - Create another list named `sample_list_2` with 80 random values.\n",
    "\n",
    "Requirements:\n",
    "\n",
    "* Each value is an integer falling between 0 and 100.\n",
    "* The values in the list don't have to be unique.\n",
    "\n",
    "*Hint: Use a FOR loop.*"
   ]
  },
  {
   "cell_type": "code",
   "execution_count": 4,
   "metadata": {},
   "outputs": [
    {
     "name": "stdout",
     "output_type": "stream",
     "text": [
      "[9, 26, 25, 72, 64, 69, 69, 23, 47, 37, 18, 95, 56, 30, 53, 84, 63, 0, 2, 89, 86, 0, 90, 7, 35, 55, 69, 9, 25, 4, 87, 87, 65, 86, 27, 56, 49, 56, 2, 36, 13, 98, 29, 74, 3, 45, 40, 44, 98, 44, 28, 26, 81, 29, 82, 10, 26, 55, 85, 2, 67, 34, 31, 65, 78, 9, 31, 6, 19, 29, 17, 56, 92, 78, 64, 31, 43, 20, 72, 64]\n"
     ]
    }
   ],
   "source": [
    "# Your code here\n",
    "\n",
    "sample_list_2 = []\n",
    "for x in range(80):\n",
    "    sample_list_2.append(random.randint(0, 100))\n",
    "print(sample_list_2)\n"
   ]
  },
  {
   "cell_type": "markdown",
   "metadata": {},
   "source": [
    "#### 4 - Convert `sample_list_2` to a set called `set2`. Print the length of the set. Is its length still 80?"
   ]
  },
  {
   "cell_type": "code",
   "execution_count": 5,
   "metadata": {},
   "outputs": [
    {
     "data": {
      "text/plain": [
       "53"
      ]
     },
     "execution_count": 5,
     "metadata": {},
     "output_type": "execute_result"
    }
   ],
   "source": [
    "# Your code here\n",
    "## Lenght is different than 80 as the values in sample_list_2 are not unique and sets do not allow for duplicate values\n",
    "set2 = set(sample_list_2)\n",
    "len(set2)"
   ]
  },
  {
   "cell_type": "markdown",
   "metadata": {},
   "source": [
    "#### 5 - Identify the elements present in `set1` but not in `set2`. Assign the elements to a new set named `set3`."
   ]
  },
  {
   "cell_type": "code",
   "execution_count": 6,
   "metadata": {},
   "outputs": [
    {
     "name": "stdout",
     "output_type": "stream",
     "text": [
      "{1, 5, 8, 11, 12, 14, 15, 16, 21, 22, 24, 32, 33, 39, 41, 42, 46, 50, 51, 52, 58, 60, 61, 62, 68, 71, 73, 75, 77, 79, 80, 83, 88, 91, 93, 94, 96, 97, 99}\n"
     ]
    }
   ],
   "source": [
    "# Your code here\n",
    "set3 = set1.difference(set2)\n",
    "print(set3)"
   ]
  },
  {
   "cell_type": "markdown",
   "metadata": {},
   "source": [
    "#### 6 - Identify the elements present in `set2` but not in `set1`. Assign the elements to a new set named `set4`."
   ]
  },
  {
   "cell_type": "code",
   "execution_count": 7,
   "metadata": {},
   "outputs": [
    {
     "name": "stdout",
     "output_type": "stream",
     "text": [
      "{0, 3, 67, 69, 40, 10, 78, 17, 18, 90, 29, 31}\n"
     ]
    }
   ],
   "source": [
    "# Your code here\n",
    "set4 = set2.difference(set1)\n",
    "print(set4)"
   ]
  },
  {
   "cell_type": "markdown",
   "metadata": {},
   "source": [
    "#### 7 - Now Identify the elements shared between `set1` and `set2`. Assign the elements to a new set named `set5`."
   ]
  },
  {
   "cell_type": "code",
   "execution_count": 8,
   "metadata": {},
   "outputs": [
    {
     "name": "stdout",
     "output_type": "stream",
     "text": [
      "{2, 4, 6, 7, 9, 13, 19, 20, 23, 25, 26, 27, 28, 30, 34, 35, 36, 37, 43, 44, 45, 47, 49, 53, 55, 56, 63, 64, 65, 72, 74, 81, 82, 84, 85, 86, 87, 89, 92, 95, 98}\n"
     ]
    }
   ],
   "source": [
    "# Your code here\n",
    "set5 = set1.intersection(set2)\n",
    "print(set5)"
   ]
  },
  {
   "cell_type": "markdown",
   "metadata": {},
   "source": [
    "#### 8 - Create an empty set called `set6`."
   ]
  },
  {
   "cell_type": "code",
   "execution_count": 9,
   "metadata": {},
   "outputs": [],
   "source": [
    "# Your code here\n",
    "set6 = set()\n"
   ]
  },
  {
   "cell_type": "markdown",
   "metadata": {},
   "source": [
    "#### 9 - Add `set3` and `set5` to `set6` using the Python Set `update` method."
   ]
  },
  {
   "cell_type": "code",
   "execution_count": 11,
   "metadata": {},
   "outputs": [
    {
     "name": "stdout",
     "output_type": "stream",
     "text": [
      "{0, 1, 2, 3, 4, 5, 6, 7, 9, 10, 11, 12, 14, 15, 16, 17, 18, 19, 20, 21, 22, 23, 24, 27, 28, 29, 30, 31, 33, 34, 35, 36, 37, 38, 40, 41, 42, 43, 44, 45, 46, 50, 52, 53, 55, 56, 57, 59, 60, 62, 63, 64, 65, 66, 67, 69, 70, 71, 72, 73, 74, 75, 77, 78, 79, 82, 84, 85, 86, 87, 88, 90, 91, 93, 94, 95, 96, 97, 98, 99}\n"
     ]
    }
   ],
   "source": [
    "# Your code here\n",
    "set6.update(set3)\n",
    "set6.update(set5)\n",
    "print(set6)"
   ]
  },
  {
   "cell_type": "markdown",
   "metadata": {},
   "source": [
    "#### 10 - Check if `set1` and `set6` are equal."
   ]
  },
  {
   "cell_type": "code",
   "execution_count": 10,
   "metadata": {},
   "outputs": [
    {
     "data": {
      "text/plain": [
       "False"
      ]
     },
     "execution_count": 10,
     "metadata": {},
     "output_type": "execute_result"
    }
   ],
   "source": [
    "# Your code here\n",
    "set1 == set6"
   ]
  },
  {
   "cell_type": "markdown",
   "metadata": {},
   "source": [
    "#### 11 - Check if `set1` contains `set2` using the Python Set `issubset` method. Then check if `set1` contains `set3`.*"
   ]
  },
  {
   "cell_type": "code",
   "execution_count": 11,
   "metadata": {},
   "outputs": [
    {
     "data": {
      "text/plain": [
       "False"
      ]
     },
     "execution_count": 11,
     "metadata": {},
     "output_type": "execute_result"
    }
   ],
   "source": [
    "# Your code here\n",
    "set2.issubset(set1)"
   ]
  },
  {
   "cell_type": "code",
   "execution_count": 12,
   "metadata": {},
   "outputs": [
    {
     "data": {
      "text/plain": [
       "True"
      ]
     },
     "execution_count": 12,
     "metadata": {},
     "output_type": "execute_result"
    }
   ],
   "source": [
    "set3.issubset(set1)"
   ]
  },
  {
   "cell_type": "markdown",
   "metadata": {},
   "source": [
    "#### 12 -Using the Python Set `union` method, aggregate `set3`, `set4`, and `set5`. Then aggregate `set1` and `set2`. \n",
    "\n",
    "#### Check if the aggregated values are equal."
   ]
  },
  {
   "cell_type": "code",
   "execution_count": 13,
   "metadata": {},
   "outputs": [
    {
     "data": {
      "text/plain": [
       "True"
      ]
     },
     "execution_count": 13,
     "metadata": {},
     "output_type": "execute_result"
    }
   ],
   "source": [
    "# Your code here\n",
    "set_a = set3.union(set4, set5)\n",
    "set_b = set1.union(set2)\n",
    "set_a == set_b"
   ]
  },
  {
   "cell_type": "markdown",
   "metadata": {},
   "source": [
    "#### 13 -Using the `pop` method, remove the first element from `set1`."
   ]
  },
  {
   "cell_type": "code",
   "execution_count": 14,
   "metadata": {},
   "outputs": [],
   "source": [
    "# Your code here\n",
    "## The elements of a set are not indexed, therefore you cannot control wchich element to pop"
   ]
  },
  {
   "cell_type": "code",
   "execution_count": 15,
   "metadata": {},
   "outputs": [],
   "source": [
    "#### 14 -Remove every element in the following list from `set1` if they are present in the set. Print the remaining elements.\n",
    "\n",
    "list_to_remove = [1, 9, 11, 19, 21, 29, 31, 39, 41, 49, 51, 59, 61, 69, 71, 79, 81, 89, 91, 99]"
   ]
  },
  {
   "cell_type": "code",
   "execution_count": 16,
   "metadata": {},
   "outputs": [
    {
     "name": "stdout",
     "output_type": "stream",
     "text": [
      "[9, 19, 29, 31, 41, 51, 59, 69, 79, 89, 99]\n"
     ]
    }
   ],
   "source": [
    "# Your code here\n",
    "# iterate list over set and remove matching items; print resulting list\n",
    "for x in list_to_remove:\n",
    "  for y in set1:\n",
    "    if x == y:\n",
    "      list_to_remove.remove(x)\n",
    "    else:\n",
    "      continue\n",
    "\n",
    "print(list_to_remove)"
   ]
  },
  {
   "cell_type": "markdown",
   "metadata": {},
   "source": [
    "#### 15 -The objective of this lab is to provide you a overview of manipulating sets in Python and how they can be integrated within a real usecase\n",
    "#### For the exercises below it's strongly advised to quickly check this link: https://docs.python.org/2/library/sets.html#sets.Set\n",
    "#### Imagine you need to create the grocery list for your family! Below you will see a list of items each family member wants. There will be repetitions because this family has the habbit of each time they notice something is missing to write it down. The problem is that they don't really talk to each other and therefore some items in the list are repeated. With the collection of questions below you will see how they solve repetion and create a grocery list with unique elements.\n",
    "\n"
   ]
  },
  {
   "cell_type": "code",
   "execution_count": 17,
   "metadata": {},
   "outputs": [],
   "source": [
    "father_list = ['garlic', 'watermelon', 'toilet paper', 'yogurt', 'onions', 'gums', 'flour', 'cucumber', 'watermelon', 'yogurt', 'garlic']\n",
    "\n",
    "mother_list = []\n",
    "\n",
    "Jo_list = ['blueberries', 'sugar', 'watermelon', 'gums', 'tomatoes', 'yogurt', 'juice', 'milk', 'onions', 'garlic', 'cucumber', 'sugar', 'blueberries', 'gums', 'yogurt']\n",
    "\n",
    "Carlos_list = ['tomatoes', 'water', 'onions', 'blueberries', 'garlic', 'flour', 'cherries', 'tomatoes', 'onions', 'water', 'tomatoes', 'toilet paper']\n",
    "\n",
    "Mattia_list = []\n",
    "\n",
    "\n"
   ]
  },
  {
   "cell_type": "markdown",
   "metadata": {},
   "source": [
    "#### 15.1- As you can see there are items repeated in each list. Creat a sequence of iterable elements with dintinct items that each family member wants. You can do it in two different ways. Assign each one (set) to a variable with the name of the family member (ex: father_set)."
   ]
  },
  {
   "cell_type": "code",
   "execution_count": 18,
   "metadata": {},
   "outputs": [
    {
     "name": "stdout",
     "output_type": "stream",
     "text": [
      "{'flour', 'toilet paper', 'watermelon', 'yogurt', 'onions', 'gums', 'garlic', 'cucumber'}\n",
      "set()\n",
      "{'tomatoes', 'juice', 'watermelon', 'yogurt', 'onions', 'gums', 'garlic', 'cucumber', 'milk', 'sugar', 'blueberries'}\n",
      "{'tomatoes', 'flour', 'toilet paper', 'onions', 'water', 'cherries', 'garlic', 'blueberries'}\n",
      "set()\n"
     ]
    }
   ],
   "source": [
    "# Your code here\n",
    "father_set = set(father_list)\n",
    "mother_set = set(mother_list)\n",
    "Jo_set = set(Jo_list)\n",
    "Carlos_set = set(Carlos_list)\n",
    "Mattia_set = set(Mattia_list)\n",
    "\n",
    "print(father_set)\n",
    "print(mother_set)\n",
    "print(Jo_set)\n",
    "print(Carlos_set)\n",
    "print(Mattia_set)"
   ]
  },
  {
   "cell_type": "markdown",
   "metadata": {},
   "source": [
    "#### 15.2- Q: Mattia wants the same items that his brother Carlos and his sister Jo but doesn't want anything they both want.\n",
    "\n",
    "##### Hint: check out the documentation for `x.symmetric_difference(y)`."
   ]
  },
  {
   "cell_type": "code",
   "execution_count": 19,
   "metadata": {},
   "outputs": [
    {
     "data": {
      "text/plain": [
       "{'cherries',\n",
       " 'cucumber',\n",
       " 'flour',\n",
       " 'gums',\n",
       " 'juice',\n",
       " 'milk',\n",
       " 'sugar',\n",
       " 'toilet paper',\n",
       " 'water',\n",
       " 'watermelon',\n",
       " 'yogurt'}"
      ]
     },
     "execution_count": 19,
     "metadata": {},
     "output_type": "execute_result"
    }
   ],
   "source": [
    "# Your code here\n",
    "Mattia_set = Carlos_set.symmetric_difference(Jo_set)\n",
    "Mattia_set"
   ]
  },
  {
   "cell_type": "markdown",
   "metadata": {},
   "source": [
    "#### 15.3- The line of code below  will  generate a list of random elements from a collection of items, with replacement. Run it and from it create a sequence of unique elements and assign it to the variable mother.\n"
   ]
  },
  {
   "cell_type": "code",
   "execution_count": 20,
   "metadata": {},
   "outputs": [
    {
     "name": "stdout",
     "output_type": "stream",
     "text": [
      "['milk', 'watermelon', 'garlic', 'shampoo', 'onions', 'watermelon', 'milk', 'vinegar', 'toilet paper', 'mushrooms']\n"
     ]
    }
   ],
   "source": [
    "import random\n",
    "items = ['milk', 'water', 'chocolate', 'blueberries', 'shampoo', 'flour', 'bread', 'sugar', 'watermelon', 'vinegar', 'tomatoes', 'yogurt', 'juice', 'gums', 'onions', 'garlic', 'cucumber', 'mushrooms', 'toilet paper', 'oranges', 'deodorant', 'cherries']\n",
    "\n",
    "mother_list = random.choices(items,k = 10) # https://docs.python.org/3/library/random.html\n",
    "\n",
    "print(mother_list)"
   ]
  },
  {
   "cell_type": "code",
   "execution_count": 21,
   "metadata": {},
   "outputs": [
    {
     "data": {
      "text/plain": [
       "{'garlic',\n",
       " 'milk',\n",
       " 'mushrooms',\n",
       " 'onions',\n",
       " 'shampoo',\n",
       " 'toilet paper',\n",
       " 'vinegar',\n",
       " 'watermelon'}"
      ]
     },
     "execution_count": 21,
     "metadata": {},
     "output_type": "execute_result"
    }
   ],
   "source": [
    "# Your code here\n",
    "mother_set = set(mother_list)\n",
    "mother_set"
   ]
  },
  {
   "cell_type": "markdown",
   "metadata": {},
   "source": [
    "#### 15.4- Before leaving the house to the grocery store the father found a lot of toilet paper, so the mother decided to remove it from the items needed to be bought. Use the `.discard()` method to remove from each set created before the 'toilet paper'. \n",
    "\n",
    "#### Hint: Try to first create a list contaning the variables of each set created before, then loop through them and remove the unecessary item. \n",
    "\n",
    "##### Note: The`.discard()` method will remove and update the set without the need of reassignment.\n",
    "\n"
   ]
  },
  {
   "cell_type": "code",
   "execution_count": 67,
   "metadata": {},
   "outputs": [
    {
     "data": {
      "text/plain": [
       "[{'cucumber',\n",
       "  'flour',\n",
       "  'garlic',\n",
       "  'gums',\n",
       "  'onions',\n",
       "  'toilet paper',\n",
       "  'watermelon',\n",
       "  'yogurt'},\n",
       " {'garlic',\n",
       "  'milk',\n",
       "  'mushrooms',\n",
       "  'onions',\n",
       "  'shampoo',\n",
       "  'toilet paper',\n",
       "  'vinegar',\n",
       "  'watermelon'},\n",
       " {'blueberries',\n",
       "  'cucumber',\n",
       "  'garlic',\n",
       "  'gums',\n",
       "  'juice',\n",
       "  'milk',\n",
       "  'onions',\n",
       "  'sugar',\n",
       "  'tomatoes',\n",
       "  'watermelon',\n",
       "  'yogurt'},\n",
       " {'blueberries',\n",
       "  'cherries',\n",
       "  'flour',\n",
       "  'garlic',\n",
       "  'onions',\n",
       "  'toilet paper',\n",
       "  'tomatoes',\n",
       "  'water'},\n",
       " {'cherries',\n",
       "  'cucumber',\n",
       "  'flour',\n",
       "  'gums',\n",
       "  'juice',\n",
       "  'milk',\n",
       "  'sugar',\n",
       "  'toilet paper',\n",
       "  'water',\n",
       "  'watermelon',\n",
       "  'yogurt'}]"
      ]
     },
     "execution_count": 67,
     "metadata": {},
     "output_type": "execute_result"
    }
   ],
   "source": [
    "# Your code here\n",
    "\n",
    "fam_set = list([father_set, mother_set, Jo_set, Carlos_set, Mattia_set])\n",
    "fam_set"
   ]
  },
  {
   "cell_type": "code",
   "execution_count": 69,
   "metadata": {},
   "outputs": [],
   "source": [
    "for grocery in fam_set:\n",
    "    # if grocery == 'toilet paper':\n",
    "    grocery.discard('toilet paper')"
   ]
  },
  {
   "cell_type": "code",
   "execution_count": 70,
   "metadata": {},
   "outputs": [
    {
     "data": {
      "text/plain": [
       "[{'cucumber', 'flour', 'garlic', 'gums', 'onions', 'watermelon', 'yogurt'},\n",
       " {'garlic', 'milk', 'mushrooms', 'onions', 'shampoo', 'vinegar', 'watermelon'},\n",
       " {'blueberries',\n",
       "  'cucumber',\n",
       "  'garlic',\n",
       "  'gums',\n",
       "  'juice',\n",
       "  'milk',\n",
       "  'onions',\n",
       "  'sugar',\n",
       "  'tomatoes',\n",
       "  'watermelon',\n",
       "  'yogurt'},\n",
       " {'blueberries', 'cherries', 'flour', 'garlic', 'onions', 'tomatoes', 'water'},\n",
       " {'cherries',\n",
       "  'cucumber',\n",
       "  'flour',\n",
       "  'gums',\n",
       "  'juice',\n",
       "  'milk',\n",
       "  'sugar',\n",
       "  'water',\n",
       "  'watermelon',\n",
       "  'yogurt'}]"
      ]
     },
     "execution_count": 70,
     "metadata": {},
     "output_type": "execute_result"
    }
   ],
   "source": [
    "fam_set"
   ]
  },
  {
   "cell_type": "markdown",
   "metadata": {},
   "source": [
    "#### 15.5- Create a set with all the groceries needed to be bought for the house (no repetitions)."
   ]
  },
  {
   "cell_type": "code",
   "execution_count": 83,
   "metadata": {},
   "outputs": [],
   "source": [
    "# Your code here\n",
    "final_groceries = set().union(*fam_set)"
   ]
  },
  {
   "cell_type": "code",
   "execution_count": 84,
   "metadata": {},
   "outputs": [
    {
     "data": {
      "text/plain": [
       "{'blueberries',\n",
       " 'cherries',\n",
       " 'cucumber',\n",
       " 'flour',\n",
       " 'garlic',\n",
       " 'gums',\n",
       " 'juice',\n",
       " 'milk',\n",
       " 'mushrooms',\n",
       " 'onions',\n",
       " 'shampoo',\n",
       " 'sugar',\n",
       " 'tomatoes',\n",
       " 'vinegar',\n",
       " 'water',\n",
       " 'watermelon',\n",
       " 'yogurt'}"
      ]
     },
     "execution_count": 84,
     "metadata": {},
     "output_type": "execute_result"
    }
   ],
   "source": [
    "final_groceries"
   ]
  },
  {
   "cell_type": "markdown",
   "metadata": {},
   "source": [
    "#### 15.6- The Father said that he could only buy five items this time. So he decided to arbitraly pick wich ones to buy this time.\n",
    "\n",
    "##### Hint: use the `.pop()` method."
   ]
  },
  {
   "cell_type": "code",
   "execution_count": 85,
   "metadata": {},
   "outputs": [
    {
     "name": "stdout",
     "output_type": "stream",
     "text": [
      "onions\n",
      "water\n",
      "mushrooms\n",
      "garlic\n",
      "vinegar\n"
     ]
    }
   ],
   "source": [
    "# Your code here\n",
    "\n",
    "print(final_groceries.pop())\n",
    "print(final_groceries.pop())\n",
    "print(final_groceries.pop())\n",
    "print(final_groceries.pop())\n",
    "print(final_groceries.pop())"
   ]
  }
 ],
 "metadata": {
  "kernelspec": {
   "display_name": "Python 3 (ipykernel)",
   "language": "python",
   "name": "python3"
  },
  "language_info": {
   "codemirror_mode": {
    "name": "ipython",
    "version": 3
   },
   "file_extension": ".py",
   "mimetype": "text/x-python",
   "name": "python",
   "nbconvert_exporter": "python",
   "pygments_lexer": "ipython3",
   "version": "3.9.7"
  }
 },
 "nbformat": 4,
 "nbformat_minor": 2
}
